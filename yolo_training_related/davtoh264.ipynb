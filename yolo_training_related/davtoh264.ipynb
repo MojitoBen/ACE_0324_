{
 "cells": [
  {
   "cell_type": "code",
   "execution_count": null,
   "metadata": {},
   "outputs": [],
   "source": [
    "import os\n",
    "\n",
    "def video_rename(file_path,save_path):\n",
    "    for video_name in os.listdir(file_path):\n",
    "        new_name = video_name.split('.')[0] + '.h264'\n",
    "        os.rename(os.path.join(file_path,video_name),os.path.join(save_path,new_name))\n",
    "    print(\"dav 轉 h264 完成\")\n",
    "    \n",
    "file_path = '/home/asc/Videos/19'\n",
    "save_path = '/home/asc/Videos/output/'\n",
    "\n",
    "\n",
    "video_rename(file_path,save_path)\n"
   ]
  }
 ],
 "metadata": {
  "language_info": {
   "name": "python"
  },
  "orig_nbformat": 4
 },
 "nbformat": 4,
 "nbformat_minor": 2
}
