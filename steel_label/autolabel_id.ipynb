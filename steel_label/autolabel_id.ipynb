{
 "cells": [
  {
   "cell_type": "code",
   "execution_count": 3,
   "metadata": {},
   "outputs": [
    {
     "name": "stdout",
     "output_type": "stream",
     "text": [
      "C:/Users/Asc-user/Documents/YOLO/steel_label/NG/3087-Tag1-G305310.jpg\n",
      "C:/Users/Asc-user/Documents/YOLO/steel_label/NG/3087-Tag1-G305310.txt\n"
     ]
    },
    {
     "ename": "AttributeError",
     "evalue": "'NoneType' object has no attribute 'shape'",
     "output_type": "error",
     "traceback": [
      "\u001b[1;31m---------------------------------------------------------------------------\u001b[0m",
      "\u001b[1;31mAttributeError\u001b[0m                            Traceback (most recent call last)",
      "\u001b[1;32m~\\AppData\\Local\\Temp\\ipykernel_6500\\1966273078.py\u001b[0m in \u001b[0;36m<module>\u001b[1;34m\u001b[0m\n\u001b[0;32m     38\u001b[0m     \u001b[0mprint\u001b[0m\u001b[1;33m(\u001b[0m\u001b[0mpath\u001b[0m\u001b[1;33m+\u001b[0m\u001b[0mlevel_1\u001b[0m\u001b[1;33m)\u001b[0m\u001b[1;33m\u001b[0m\u001b[1;33m\u001b[0m\u001b[0m\n\u001b[0;32m     39\u001b[0m     \u001b[0mimage\u001b[0m \u001b[1;33m=\u001b[0m \u001b[0mcv2\u001b[0m\u001b[1;33m.\u001b[0m\u001b[0mimread\u001b[0m\u001b[1;33m(\u001b[0m\u001b[0mpath\u001b[0m\u001b[1;33m+\u001b[0m\u001b[0mlevel_1\u001b[0m\u001b[1;33m)\u001b[0m\u001b[1;33m\u001b[0m\u001b[1;33m\u001b[0m\u001b[0m\n\u001b[1;32m---> 40\u001b[1;33m     \u001b[0msize\u001b[0m \u001b[1;33m=\u001b[0m \u001b[1;33m[\u001b[0m\u001b[0mimage\u001b[0m\u001b[1;33m.\u001b[0m\u001b[0mshape\u001b[0m\u001b[1;33m[\u001b[0m\u001b[1;36m1\u001b[0m\u001b[1;33m]\u001b[0m\u001b[1;33m,\u001b[0m\u001b[0mimage\u001b[0m\u001b[1;33m.\u001b[0m\u001b[0mshape\u001b[0m\u001b[1;33m[\u001b[0m\u001b[1;36m0\u001b[0m\u001b[1;33m]\u001b[0m\u001b[1;33m]\u001b[0m\u001b[1;33m\u001b[0m\u001b[1;33m\u001b[0m\u001b[0m\n\u001b[0m\u001b[0;32m     41\u001b[0m     \u001b[0mdetections\u001b[0m\u001b[1;33m,\u001b[0m \u001b[0mwidth_ratio\u001b[0m\u001b[1;33m,\u001b[0m \u001b[0mheight_ratio\u001b[0m \u001b[1;33m=\u001b[0m \u001b[0mdarknet_helper\u001b[0m\u001b[1;33m(\u001b[0m\u001b[0mimage\u001b[0m\u001b[1;33m,\u001b[0m \u001b[1;36m416\u001b[0m\u001b[1;33m,\u001b[0m \u001b[1;36m416\u001b[0m\u001b[1;33m)\u001b[0m\u001b[1;33m\u001b[0m\u001b[1;33m\u001b[0m\u001b[0m\n\u001b[0;32m     42\u001b[0m     \u001b[0mdetections\u001b[0m \u001b[1;33m=\u001b[0m \u001b[0msorted\u001b[0m\u001b[1;33m(\u001b[0m\u001b[0mdetections\u001b[0m\u001b[1;33m,\u001b[0m\u001b[0mreverse\u001b[0m \u001b[1;33m=\u001b[0m \u001b[1;32mFalse\u001b[0m\u001b[1;33m,\u001b[0m \u001b[0mkey\u001b[0m \u001b[1;33m=\u001b[0m \u001b[1;32mlambda\u001b[0m \u001b[0ms\u001b[0m\u001b[1;33m:\u001b[0m \u001b[0ms\u001b[0m\u001b[1;33m[\u001b[0m\u001b[1;36m2\u001b[0m\u001b[1;33m]\u001b[0m\u001b[1;33m[\u001b[0m\u001b[1;36m1\u001b[0m\u001b[1;33m]\u001b[0m\u001b[1;33m)\u001b[0m\u001b[1;33m\u001b[0m\u001b[1;33m\u001b[0m\u001b[0m\n",
      "\u001b[1;31mAttributeError\u001b[0m: 'NoneType' object has no attribute 'shape'"
     ]
    }
   ],
   "source": [
    "# autolabel steel id+num\n",
    "\n",
    "\n",
    "import numpy as np\n",
    "import sys\n",
    "sys.path.insert(4, r'C:/Users/Asc-user/Documents/YOLO/darknet')\n",
    "from darknet_noWinmode import *\n",
    "import cv2\n",
    "import glob\n",
    "import time \n",
    "import copy\n",
    "import os\n",
    "import signal\n",
    "\n",
    "def darknet_helper(image, width, height):\n",
    "    darknet_image = make_image(width, height, 3)\n",
    "    img_rgb = cv2.cvtColor(image, cv2.COLOR_BGR2RGB)\n",
    "    img_resized = cv2.resize(img_rgb, (width, height),interpolation=cv2.INTER_LINEAR)\n",
    "    img_height, img_width, _ = image.shape\n",
    "    width_ratio = img_width/width\n",
    "    height_ratio = img_height/height\n",
    "    copy_image_from_bytes(darknet_image, img_resized.tobytes())\n",
    "    detections = detect_image(network, class_names, darknet_image, thresh=0.6)\n",
    "    free_image(darknet_image)\n",
    "\n",
    "    return detections, width_ratio, height_ratio\n",
    "       \n",
    "\n",
    "\n",
    "\n",
    "network, class_names, class_colors = load_network(\"C:/Users/Asc-user/Documents/YOLO/steel_label/CS_label/yolov4-tiny.cfg\", \n",
    "                                                  \"C:/Users/Asc-user/Documents/YOLO/steel_label/CS_label/obj.data\", \n",
    "                                                  \"C:/Users/Asc-user/Documents/YOLO/steel_label/weights/cs_label_v6.weights\")\n",
    "\n",
    "\n",
    "path = 'C:/Users/Asc-user/Documents/YOLO/steel_label/NG/'\n",
    "for level_1 in os.listdir(path):\n",
    "    print(path+level_1)\n",
    "    image = cv2.imread(path+level_1)\n",
    "    size = [image.shape[1],image.shape[0]]\n",
    "    detections, width_ratio, height_ratio = darknet_helper(image, 416, 416)\n",
    "    detections = sorted(detections,reverse = False, key = lambda s: s[2][1])\n",
    "    for label,confidence, bbox in detections:\n",
    "            left, top, right, bottom = bbox2points(bbox)\n",
    "            left, top, right, bottom = int(left * width_ratio), int(top * height_ratio), int(right * width_ratio), int(bottom * height_ratio)\n",
    "            top,bottom,left,right = abs(top),abs(bottom),abs(left),abs(right)\n",
    "\n",
    "            '''\n",
    "            #AI_label的\n",
    "            if label == 'id':\n",
    "                label = '0'\n",
    "            else:\n",
    "                label = '1'\n",
    "            '''\n",
    "            '''\n",
    "            #cs_label的\n",
    "            if label =='W':\n",
    "                label='10'\n",
    "            if label =='G':\n",
    "                label='11'\n",
    "            '''\n",
    "\n",
    "            dw = 1./size[0]\n",
    "            dh = 1./size[1]\n",
    "            #print(dw,dh)\n",
    "            x = (left + right)/2.0\n",
    "            y = (top + bottom)/2.0\n",
    "            w = right - left\n",
    "            h = bottom - top\n",
    "            x = x*dw\n",
    "            w = w*dw\n",
    "            y = y*dh\n",
    "            h = h*dh\n",
    "            id_path = path+level_1[:-4]\n",
    "            write = open(id_path+'.txt', 'a')\n",
    "            print(label ,x,y,w,h,file=write)\n",
    "\n",
    "            write.close() \n",
    "print('done')"
   ]
  },
  {
   "cell_type": "code",
   "execution_count": null,
   "metadata": {},
   "outputs": [],
   "source": []
  }
 ],
 "metadata": {
  "kernelspec": {
   "display_name": "yolov4-deepsort",
   "language": "python",
   "name": "python3"
  },
  "language_info": {
   "codemirror_mode": {
    "name": "ipython",
    "version": 3
   },
   "file_extension": ".py",
   "mimetype": "text/x-python",
   "name": "python",
   "nbconvert_exporter": "python",
   "pygments_lexer": "ipython3",
   "version": "3.7.16"
  },
  "orig_nbformat": 4
 },
 "nbformat": 4,
 "nbformat_minor": 2
}
